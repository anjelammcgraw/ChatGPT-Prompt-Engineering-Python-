{
  "cells": [
    {
      "cell_type": "markdown",
      "id": "b97ddf3b-d921-4169-9d82-b0ee95e9eccd",
      "metadata": {
        "id": "b97ddf3b-d921-4169-9d82-b0ee95e9eccd"
      },
      "source": [
        "# Iterative Prompt Development\n",
        "## Setup"
      ]
    },
    {
      "cell_type": "code",
      "source": [
        "!pip install -qU openai"
      ],
      "metadata": {
        "colab": {
          "base_uri": "https://localhost:8080/"
        },
        "id": "uWBK8IWFh5WV",
        "outputId": "a390be18-40fd-46fb-a15b-ba15f291094b"
      },
      "id": "uWBK8IWFh5WV",
      "execution_count": 1,
      "outputs": [
        {
          "output_type": "stream",
          "name": "stdout",
          "text": [
            "\u001b[2K     \u001b[90m━━━━━━━━━━━━━━━━━━━━━━━━━━━━━━━━━━━━━━━━\u001b[0m \u001b[32m311.6/311.6 kB\u001b[0m \u001b[31m4.8 MB/s\u001b[0m eta \u001b[36m0:00:00\u001b[0m\n",
            "\u001b[2K     \u001b[90m━━━━━━━━━━━━━━━━━━━━━━━━━━━━━━━━━━━━━━━━\u001b[0m \u001b[32m75.6/75.6 kB\u001b[0m \u001b[31m6.6 MB/s\u001b[0m eta \u001b[36m0:00:00\u001b[0m\n",
            "\u001b[2K     \u001b[90m━━━━━━━━━━━━━━━━━━━━━━━━━━━━━━━━━━━━━━━━\u001b[0m \u001b[32m77.9/77.9 kB\u001b[0m \u001b[31m4.2 MB/s\u001b[0m eta \u001b[36m0:00:00\u001b[0m\n",
            "\u001b[2K     \u001b[90m━━━━━━━━━━━━━━━━━━━━━━━━━━━━━━━━━━━━━━━━\u001b[0m \u001b[32m58.3/58.3 kB\u001b[0m \u001b[31m2.5 MB/s\u001b[0m eta \u001b[36m0:00:00\u001b[0m\n",
            "\u001b[?25h"
          ]
        }
      ]
    },
    {
      "cell_type": "code",
      "execution_count": 2,
      "id": "2800e646",
      "metadata": {
        "tags": [],
        "colab": {
          "base_uri": "https://localhost:8080/"
        },
        "id": "2800e646",
        "outputId": "c663436c-9322-407a-c053-483c4f8315b8"
      },
      "outputs": [
        {
          "name": "stdout",
          "output_type": "stream",
          "text": [
            "OpenAI API Key:··········\n"
          ]
        }
      ],
      "source": [
        "import openai\n",
        "import os\n",
        "\n",
        "from getpass import getpass\n",
        "\n",
        "\n",
        "os.environ[\"OPENAI_API_KEY\"] = getpass(\"OpenAI API Key:\")"
      ]
    },
    {
      "cell_type": "code",
      "execution_count": 6,
      "id": "9fb6f2de",
      "metadata": {
        "tags": [],
        "id": "9fb6f2de"
      },
      "outputs": [],
      "source": [
        "client = openai.OpenAI()\n",
        "\n",
        "def get_completion(prompt, model=\"gpt-3.5-turbo\"):\n",
        "    messages = [{\"role\": \"user\", \"content\": prompt}]\n",
        "    response = client.chat.completions.create(\n",
        "        model=model,\n",
        "        messages=messages,\n",
        "        temperature=0\n",
        "    )\n",
        "    return response.choices[0].message.content"
      ]
    },
    {
      "cell_type": "markdown",
      "id": "ffc2b32f-73da-4ef0-81f6-0c7bff70783d",
      "metadata": {
        "id": "ffc2b32f-73da-4ef0-81f6-0c7bff70783d"
      },
      "source": [
        "**Note**: In June 2023, OpenAI updated gpt-3.5-turbo. The results you see in the notebook may be slightly different than those in the video. Some of the prompts have also been slightly modified to product the desired results."
      ]
    },
    {
      "cell_type": "markdown",
      "id": "71d1a1df-03c3-4f38-af6d-3962362f3dcd",
      "metadata": {
        "id": "71d1a1df-03c3-4f38-af6d-3962362f3dcd"
      },
      "source": [
        "## Generate a marketing product description from a product fact sheet"
      ]
    },
    {
      "cell_type": "code",
      "execution_count": 7,
      "id": "5be90e47",
      "metadata": {
        "tags": [],
        "id": "5be90e47"
      },
      "outputs": [],
      "source": [
        "fact_sheet_chair = \"\"\"\n",
        "OVERVIEW\n",
        "- Part of a beautiful family of mid-century inspired office furniture,\n",
        "including filing cabinets, desks, bookcases, meeting tables, and more.\n",
        "- Several options of shell color and base finishes.\n",
        "- Available with plastic back and front upholstery (SWC-100)\n",
        "or full upholstery (SWC-110) in 10 fabric and 6 leather options.\n",
        "- Base finish options are: stainless steel, matte black,\n",
        "gloss white, or chrome.\n",
        "- Chair is available with or without armrests.\n",
        "- Suitable for home or business settings.\n",
        "- Qualified for contract use.\n",
        "\n",
        "CONSTRUCTION\n",
        "- 5-wheel plastic coated aluminum base.\n",
        "- Pneumatic chair adjust for easy raise/lower action.\n",
        "\n",
        "DIMENSIONS\n",
        "- WIDTH 53 CM | 20.87”\n",
        "- DEPTH 51 CM | 20.08”\n",
        "- HEIGHT 80 CM | 31.50”\n",
        "- SEAT HEIGHT 44 CM | 17.32”\n",
        "- SEAT DEPTH 41 CM | 16.14”\n",
        "\n",
        "OPTIONS\n",
        "- Soft or hard-floor caster options.\n",
        "- Two choices of seat foam densities:\n",
        " medium (1.8 lb/ft3) or high (2.8 lb/ft3)\n",
        "- Armless or 8 position PU armrests\n",
        "\n",
        "MATERIALS\n",
        "SHELL BASE GLIDER\n",
        "- Cast Aluminum with modified nylon PA6/PA66 coating.\n",
        "- Shell thickness: 10 mm.\n",
        "SEAT\n",
        "- HD36 foam\n",
        "\n",
        "COUNTRY OF ORIGIN\n",
        "- Italy\n",
        "\"\"\""
      ]
    },
    {
      "cell_type": "code",
      "execution_count": 8,
      "id": "4f656d0c",
      "metadata": {
        "tags": [],
        "colab": {
          "base_uri": "https://localhost:8080/"
        },
        "id": "4f656d0c",
        "outputId": "9e16fab8-243a-4611-8f60-3422efb233fa"
      },
      "outputs": [
        {
          "output_type": "stream",
          "name": "stdout",
          "text": [
            "Introducing the SWC-100/SWC-110 Office Chair, a sleek and stylish addition to any home or business setting. This chair is part of a stunning family of mid-century inspired office furniture, offering a range of options to suit your preferences.\n",
            "\n",
            "Choose from a variety of shell colors and base finishes to customize your chair to your liking. The SWC-100 model comes with plastic back and front upholstery, while the SWC-110 model offers full upholstery in a selection of 10 fabric and 6 leather options. You can also choose whether you prefer armrests or not.\n",
            "\n",
            "Constructed with a durable 5-wheel plastic coated aluminum base, this chair features a pneumatic adjust for easy raise/lower action. The dimensions of the chair are as follows: WIDTH 53 CM, DEPTH 51 CM, HEIGHT 80 CM, SEAT HEIGHT 44 CM, and SEAT DEPTH 41 CM.\n",
            "\n",
            "Additional options include soft or hard-floor caster choices, two seat foam densities (medium or high), and the option for armless or 8 position PU armrests. The materials used in the construction of this chair are of high quality, with a cast aluminum shell and HD36 foam seat.\n",
            "\n",
            "Made in Italy, the SWC-100/SWC-110 Office Chair is not only stylish but also functional and durable. Upgrade your workspace with this modern and versatile chair today.\n"
          ]
        }
      ],
      "source": [
        "prompt = f\"\"\"\n",
        "Your task is to help a marketing team create a\n",
        "description for a retail website of a product based\n",
        "on a technical fact sheet.\n",
        "\n",
        "Write a product description based on the information\n",
        "provided in the technical specifications delimited by\n",
        "triple backticks.\n",
        "\n",
        "Technical specifications: ```{fact_sheet_chair}```\n",
        "\"\"\"\n",
        "response = get_completion(prompt)\n",
        "print(response)\n"
      ]
    },
    {
      "cell_type": "markdown",
      "id": "e1361d6f-6022-4b7a-8107-b2e2ff5efd32",
      "metadata": {
        "id": "e1361d6f-6022-4b7a-8107-b2e2ff5efd32"
      },
      "source": [
        "## Issue 1: The text is too long\n",
        "- Limit the number of words/sentences/characters."
      ]
    },
    {
      "cell_type": "code",
      "execution_count": 9,
      "id": "f6129532",
      "metadata": {
        "tags": [],
        "colab": {
          "base_uri": "https://localhost:8080/"
        },
        "id": "f6129532",
        "outputId": "f3e0eb7b-6467-4979-fa29-6cf45b24e8f0"
      },
      "outputs": [
        {
          "output_type": "stream",
          "name": "stdout",
          "text": [
            "Introducing our versatile and stylish office chair, part of a mid-century inspired furniture collection. Available in various colors and finishes, with options for upholstery and armrests. Designed for both home and business use, with a durable construction and adjustable height feature. Made in Italy for quality assurance.\n"
          ]
        }
      ],
      "source": [
        "prompt = f\"\"\"\n",
        "Your task is to help a marketing team create a\n",
        "description for a retail website of a product based\n",
        "on a technical fact sheet.\n",
        "\n",
        "Write a product description based on the information\n",
        "provided in the technical specifications delimited by\n",
        "triple backticks.\n",
        "\n",
        "Use at most 50 words.\n",
        "\n",
        "Technical specifications: ```{fact_sheet_chair}```\n",
        "\"\"\"\n",
        "response = get_completion(prompt)\n",
        "print(response)\n"
      ]
    },
    {
      "cell_type": "code",
      "execution_count": 11,
      "id": "17f658d0",
      "metadata": {
        "tags": [],
        "colab": {
          "base_uri": "https://localhost:8080/"
        },
        "id": "17f658d0",
        "outputId": "2698989c-10be-49a8-fd22-f1aad1e61767"
      },
      "outputs": [
        {
          "output_type": "execute_result",
          "data": {
            "text/plain": [
              "56"
            ]
          },
          "metadata": {},
          "execution_count": 11
        }
      ],
      "source": [
        "len(response.split())"
      ]
    },
    {
      "cell_type": "markdown",
      "id": "a6de9c92-857c-4d1c-8fd1-192cf47c4763",
      "metadata": {
        "id": "a6de9c92-857c-4d1c-8fd1-192cf47c4763"
      },
      "source": [
        "## Issue 2. Text focuses on the wrong details\n",
        "- Ask it to focus on the aspects that are relevant to the intended audience."
      ]
    },
    {
      "cell_type": "code",
      "execution_count": 10,
      "id": "954a8a06",
      "metadata": {
        "tags": [],
        "colab": {
          "base_uri": "https://localhost:8080/"
        },
        "id": "954a8a06",
        "outputId": "324e32f1-9b22-41c7-a7e1-78203a8bf82d"
      },
      "outputs": [
        {
          "output_type": "stream",
          "name": "stdout",
          "text": [
            "Introducing our versatile and stylish office chair, crafted with precision and quality materials. The shell base glider is made of durable cast aluminum with a modified nylon coating, while the seat features high-density foam for ultimate comfort. Available in various colors and finishes, this chair is perfect for any home or business setting. Made in Italy.\n"
          ]
        }
      ],
      "source": [
        "prompt = f\"\"\"\n",
        "Your task is to help a marketing team create a\n",
        "description for a retail website of a product based\n",
        "on a technical fact sheet.\n",
        "\n",
        "Write a product description based on the information\n",
        "provided in the technical specifications delimited by\n",
        "triple backticks.\n",
        "\n",
        "The description is intended for furniture retailers,\n",
        "so should be technical in nature and focus on the\n",
        "materials the product is constructed from.\n",
        "\n",
        "Use at most 50 words.\n",
        "\n",
        "Technical specifications: ```{fact_sheet_chair}```\n",
        "\"\"\"\n",
        "response = get_completion(prompt)\n",
        "print(response)"
      ]
    },
    {
      "cell_type": "code",
      "execution_count": 12,
      "id": "e9455d58",
      "metadata": {
        "tags": [],
        "colab": {
          "base_uri": "https://localhost:8080/"
        },
        "id": "e9455d58",
        "outputId": "f894bc9a-e80c-4328-e6bd-25fa134399b0"
      },
      "outputs": [
        {
          "output_type": "stream",
          "name": "stdout",
          "text": [
            "Introducing our versatile office chair, part of a stylish mid-century furniture collection. Choose from a variety of shell colors and base finishes to suit your space. Constructed with a durable aluminum base and high-density foam seat for comfort. Perfect for home or office use. Product IDs: SWC-100, SWC-110.\n"
          ]
        }
      ],
      "source": [
        "prompt = f\"\"\"\n",
        "Your task is to help a marketing team create a\n",
        "description for a retail website of a product based\n",
        "on a technical fact sheet.\n",
        "\n",
        "Write a product description based on the information\n",
        "provided in the technical specifications delimited by\n",
        "triple backticks.\n",
        "\n",
        "The description is intended for furniture retailers,\n",
        "so should be technical in nature and focus on the\n",
        "materials the product is constructed from.\n",
        "\n",
        "At the end of the description, include every 7-character\n",
        "Product ID in the technical specification.\n",
        "\n",
        "Use at most 50 words.\n",
        "\n",
        "Technical specifications: ```{fact_sheet_chair}```\n",
        "\"\"\"\n",
        "response = get_completion(prompt)\n",
        "print(response)"
      ]
    },
    {
      "cell_type": "markdown",
      "id": "5be496d5-54c9-443b-8116-0b3d3d9dc560",
      "metadata": {
        "id": "5be496d5-54c9-443b-8116-0b3d3d9dc560"
      },
      "source": [
        "## Issue 3. Description needs a table of dimensions\n",
        "- Ask it to extract information and organize it in a table."
      ]
    },
    {
      "cell_type": "code",
      "execution_count": 13,
      "id": "0384f1e4",
      "metadata": {
        "tags": [],
        "colab": {
          "base_uri": "https://localhost:8080/"
        },
        "id": "0384f1e4",
        "outputId": "c9ece6d2-b156-4db6-e95d-2f472f36a7d6"
      },
      "outputs": [
        {
          "output_type": "stream",
          "name": "stdout",
          "text": [
            "<div>\n",
            "<p>This mid-century inspired office chair is a perfect addition to any workspace, whether at home or in a business setting. The chair comes in a variety of shell colors and base finishes to suit your style. You can choose between plastic back and front upholstery or full upholstery in a range of fabric and leather options. The chair is designed for comfort with a 5-wheel plastic coated aluminum base and pneumatic chair adjust for easy raise/lower action. The seat is made with high-quality HD36 foam for durability and comfort. Made in Italy, this chair is not only stylish but also built to last.</p>\n",
            "\n",
            "<p>Product IDs: SWC-100, SWC-110</p>\n",
            "\n",
            "<table>\n",
            "  <caption>Product Dimensions</caption>\n",
            "  <tr>\n",
            "    <th>Dimension</th>\n",
            "    <th>Measurements (inches)</th>\n",
            "  </tr>\n",
            "  <tr>\n",
            "    <td>Width</td>\n",
            "    <td>20.87\"</td>\n",
            "  </tr>\n",
            "  <tr>\n",
            "    <td>Depth</td>\n",
            "    <td>20.08\"</td>\n",
            "  </tr>\n",
            "  <tr>\n",
            "    <td>Height</td>\n",
            "    <td>31.50\"</td>\n",
            "  </tr>\n",
            "  <tr>\n",
            "    <td>Seat Height</td>\n",
            "    <td>17.32\"</td>\n",
            "  </tr>\n",
            "  <tr>\n",
            "    <td>Seat Depth</td>\n",
            "    <td>16.14\"</td>\n",
            "  </tr>\n",
            "</table>\n",
            "</div>\n"
          ]
        }
      ],
      "source": [
        "prompt = f\"\"\"\n",
        "Your task is to help a marketing team create a\n",
        "description for a retail website of a product based\n",
        "on a technical fact sheet.\n",
        "\n",
        "Write a product description based on the information\n",
        "provided in the technical specifications delimited by\n",
        "triple backticks.\n",
        "\n",
        "The description is intended for furniture retailers,\n",
        "so should be technical in nature and focus on the\n",
        "materials the product is constructed from.\n",
        "\n",
        "At the end of the description, include every 7-character\n",
        "Product ID in the technical specification.\n",
        "\n",
        "After the description, include a table that gives the\n",
        "product's dimensions. The table should have two columns.\n",
        "In the first column include the name of the dimension.\n",
        "In the second column include the measurements in inches only.\n",
        "\n",
        "Give the table the title 'Product Dimensions'.\n",
        "\n",
        "Format everything as HTML that can be used in a website.\n",
        "Place the description in a <div> element.\n",
        "\n",
        "Technical specifications: ```{fact_sheet_chair}```\n",
        "\"\"\"\n",
        "\n",
        "response = get_completion(prompt)\n",
        "print(response)"
      ]
    },
    {
      "cell_type": "markdown",
      "id": "d681db67-6d59-40c1-a36b-4d76729a690d",
      "metadata": {
        "id": "d681db67-6d59-40c1-a36b-4d76729a690d"
      },
      "source": [
        "## Load Python libraries to view HTML"
      ]
    },
    {
      "cell_type": "code",
      "execution_count": 14,
      "id": "73ff0052",
      "metadata": {
        "tags": [],
        "id": "73ff0052"
      },
      "outputs": [],
      "source": [
        "from IPython.display import display, HTML"
      ]
    },
    {
      "cell_type": "code",
      "execution_count": 15,
      "id": "3465ffce",
      "metadata": {
        "tags": [],
        "colab": {
          "base_uri": "https://localhost:8080/",
          "height": 252
        },
        "id": "3465ffce",
        "outputId": "29806ac3-06c5-46f2-8dfd-0d07af151773"
      },
      "outputs": [
        {
          "output_type": "display_data",
          "data": {
            "text/plain": [
              "<IPython.core.display.HTML object>"
            ],
            "text/html": [
              "<div>\n",
              "<p>This mid-century inspired office chair is a perfect addition to any workspace, whether at home or in a business setting. The chair comes in a variety of shell colors and base finishes to suit your style. You can choose between plastic back and front upholstery or full upholstery in a range of fabric and leather options. The chair is designed for comfort with a 5-wheel plastic coated aluminum base and pneumatic chair adjust for easy raise/lower action. The seat is made with high-quality HD36 foam for durability and comfort. Made in Italy, this chair is not only stylish but also built to last.</p>\n",
              "\n",
              "<p>Product IDs: SWC-100, SWC-110</p>\n",
              "\n",
              "<table>\n",
              "  <caption>Product Dimensions</caption>\n",
              "  <tr>\n",
              "    <th>Dimension</th>\n",
              "    <th>Measurements (inches)</th>\n",
              "  </tr>\n",
              "  <tr>\n",
              "    <td>Width</td>\n",
              "    <td>20.87\"</td>\n",
              "  </tr>\n",
              "  <tr>\n",
              "    <td>Depth</td>\n",
              "    <td>20.08\"</td>\n",
              "  </tr>\n",
              "  <tr>\n",
              "    <td>Height</td>\n",
              "    <td>31.50\"</td>\n",
              "  </tr>\n",
              "  <tr>\n",
              "    <td>Seat Height</td>\n",
              "    <td>17.32\"</td>\n",
              "  </tr>\n",
              "  <tr>\n",
              "    <td>Seat Depth</td>\n",
              "    <td>16.14\"</td>\n",
              "  </tr>\n",
              "</table>\n",
              "</div>"
            ]
          },
          "metadata": {}
        }
      ],
      "source": [
        "display(HTML(response))"
      ]
    }
  ],
  "metadata": {
    "kernelspec": {
      "display_name": "Python 3 (ipykernel)",
      "language": "python",
      "name": "python3"
    },
    "language_info": {
      "codemirror_mode": {
        "name": "ipython",
        "version": 3
      },
      "file_extension": ".py",
      "mimetype": "text/x-python",
      "name": "python",
      "nbconvert_exporter": "python",
      "pygments_lexer": "ipython3",
      "version": "3.8.10"
    },
    "colab": {
      "provenance": []
    }
  },
  "nbformat": 4,
  "nbformat_minor": 5
}