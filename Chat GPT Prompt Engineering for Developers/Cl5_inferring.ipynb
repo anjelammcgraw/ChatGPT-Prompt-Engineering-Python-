{
  "cells": [
    {
      "cell_type": "markdown",
      "id": "3630c235-f891-4874-bd0a-5277d4d6aa82",
      "metadata": {
        "id": "3630c235-f891-4874-bd0a-5277d4d6aa82"
      },
      "source": [
        "# Inferring\n",
        "\n",
        "## Setup"
      ]
    },
    {
      "cell_type": "code",
      "source": [
        "!pip install -qU openai"
      ],
      "metadata": {
        "colab": {
          "base_uri": "https://localhost:8080/"
        },
        "id": "VAHnFb8Zla_v",
        "outputId": "b9e2f085-e3a8-429c-f7d7-38479e7cd9c9"
      },
      "id": "VAHnFb8Zla_v",
      "execution_count": 30,
      "outputs": [
        {
          "output_type": "stream",
          "name": "stdout",
          "text": [
            "\u001b[?25l     \u001b[90m━━━━━━━━━━━━━━━━━━━━━━━━━━━━━━━━━━━━━━━━\u001b[0m \u001b[32m0.0/311.6 kB\u001b[0m \u001b[31m?\u001b[0m eta \u001b[36m-:--:--\u001b[0m\r\u001b[2K     \u001b[91m━━━━━━━━━━━━━━━━━━━━━━━━━━━━━━\u001b[0m\u001b[90m╺\u001b[0m\u001b[90m━━━━━━━━━\u001b[0m \u001b[32m235.5/311.6 kB\u001b[0m \u001b[31m6.7 MB/s\u001b[0m eta \u001b[36m0:00:01\u001b[0m\r\u001b[2K     \u001b[90m━━━━━━━━━━━━━━━━━━━━━━━━━━━━━━━━━━━━━━━━\u001b[0m \u001b[32m311.6/311.6 kB\u001b[0m \u001b[31m6.3 MB/s\u001b[0m eta \u001b[36m0:00:00\u001b[0m\n",
            "\u001b[?25h"
          ]
        }
      ]
    },
    {
      "cell_type": "code",
      "execution_count": 31,
      "id": "39689e67",
      "metadata": {
        "colab": {
          "base_uri": "https://localhost:8080/"
        },
        "id": "39689e67",
        "outputId": "857e1962-ee1d-4d2c-aa0b-e2aec4785244"
      },
      "outputs": [
        {
          "name": "stdout",
          "output_type": "stream",
          "text": [
            "OpenAI API Key:··········\n"
          ]
        }
      ],
      "source": [
        "import openai\n",
        "from getpass import getpass\n",
        "import os\n",
        "\n",
        "os.environ[\"OPENAI_API_KEY\"] = getpass(\"OpenAI API Key:\")"
      ]
    },
    {
      "cell_type": "code",
      "execution_count": 32,
      "id": "e82f5577",
      "metadata": {
        "id": "e82f5577"
      },
      "outputs": [],
      "source": [
        "client = openai.OpenAI()\n",
        "\n",
        "def get_completion(prompt, model=\"gpt-3.5-turbo\"):\n",
        "    messages = [{\"role\": \"user\", \"content\": prompt}]\n",
        "    response = client.chat.completions.create(\n",
        "        model=model,\n",
        "        messages=messages,\n",
        "        temperature=0\n",
        "    )\n",
        "    return response.choices[0].message.content"
      ]
    },
    {
      "cell_type": "markdown",
      "id": "51d2fdfa-c99f-4750-8574-dba7712cd7f0",
      "metadata": {
        "id": "51d2fdfa-c99f-4750-8574-dba7712cd7f0"
      },
      "source": [
        "## Product review text"
      ]
    },
    {
      "cell_type": "code",
      "execution_count": 33,
      "id": "b0f3b49b",
      "metadata": {
        "id": "b0f3b49b"
      },
      "outputs": [],
      "source": [
        "lamp_review = \"\"\"\n",
        "Needed a nice lamp for my bedroom, and this one had \\\n",
        "additional storage and not too high of a price point. \\\n",
        "Got it fast.  The string to our lamp broke during the \\\n",
        "transit and the company happily sent over a new one. \\\n",
        "Came within a few days as well. It was easy to put \\\n",
        "together.  I had a missing part, so I contacted their \\\n",
        "support and they very quickly got me the missing piece! \\\n",
        "Lumina seems to me to be a great company that cares \\\n",
        "about their customers and products!!\n",
        "\"\"\""
      ]
    },
    {
      "cell_type": "markdown",
      "id": "30d6e4bd-3337-45a3-8c99-a734cdd06743",
      "metadata": {
        "id": "30d6e4bd-3337-45a3-8c99-a734cdd06743"
      },
      "source": [
        "## Sentiment (positive/negative)"
      ]
    },
    {
      "cell_type": "code",
      "execution_count": 34,
      "id": "e3157601",
      "metadata": {
        "colab": {
          "base_uri": "https://localhost:8080/"
        },
        "id": "e3157601",
        "outputId": "a31b5a13-6dd3-4ea1-e78f-7c663bc7ee40"
      },
      "outputs": [
        {
          "output_type": "stream",
          "name": "stdout",
          "text": [
            "The sentiment of the review is positive. The reviewer is satisfied with the lamp, the customer service, and the company in general.\n"
          ]
        }
      ],
      "source": [
        "prompt = f\"\"\"\n",
        "What is the sentiment of the following product review,\n",
        "which is delimited with triple backticks?\n",
        "\n",
        "Review text: '''{lamp_review}'''\n",
        "\"\"\"\n",
        "response = get_completion(prompt)\n",
        "print(response)"
      ]
    },
    {
      "cell_type": "code",
      "execution_count": 35,
      "id": "acf9ca16",
      "metadata": {
        "colab": {
          "base_uri": "https://localhost:8080/"
        },
        "id": "acf9ca16",
        "outputId": "87143024-b2de-452c-c725-b0c69502f494"
      },
      "outputs": [
        {
          "output_type": "stream",
          "name": "stdout",
          "text": [
            "Positive\n"
          ]
        }
      ],
      "source": [
        "prompt = f\"\"\"\n",
        "What is the sentiment of the following product review,\n",
        "which is delimited with triple backticks?\n",
        "\n",
        "Give your answer as a single word, either \"positive\" \\\n",
        "or \"negative\".\n",
        "\n",
        "Review text: '''{lamp_review}'''\n",
        "\"\"\"\n",
        "response = get_completion(prompt)\n",
        "print(response)"
      ]
    },
    {
      "cell_type": "markdown",
      "id": "81d2a973-1fa4-4a35-ae35-a2e746c0e91b",
      "metadata": {
        "id": "81d2a973-1fa4-4a35-ae35-a2e746c0e91b"
      },
      "source": [
        "## Identify types of emotions"
      ]
    },
    {
      "cell_type": "code",
      "execution_count": 36,
      "id": "8aa7934b",
      "metadata": {
        "colab": {
          "base_uri": "https://localhost:8080/"
        },
        "id": "8aa7934b",
        "outputId": "2f1b9715-db95-482a-d7e7-19a6698e2331"
      },
      "outputs": [
        {
          "output_type": "stream",
          "name": "stdout",
          "text": [
            "happy, satisfied, grateful, impressed, content\n"
          ]
        }
      ],
      "source": [
        "prompt = f\"\"\"\n",
        "Identify a list of emotions that the writer of the \\\n",
        "following review is expressing. Include no more than \\\n",
        "five items in the list. Format your answer as a list of \\\n",
        "lower-case words separated by commas.\n",
        "\n",
        "Review text: '''{lamp_review}'''\n",
        "\"\"\"\n",
        "response = get_completion(prompt)\n",
        "print(response)"
      ]
    },
    {
      "cell_type": "markdown",
      "id": "a428d093-51c9-461c-b41e-114e80876409",
      "metadata": {
        "id": "a428d093-51c9-461c-b41e-114e80876409"
      },
      "source": [
        "## Identify anger"
      ]
    },
    {
      "cell_type": "code",
      "execution_count": 37,
      "id": "dba1a538",
      "metadata": {
        "colab": {
          "base_uri": "https://localhost:8080/"
        },
        "id": "dba1a538",
        "outputId": "b648eefd-b0e7-43d0-f078-fd96acde9b22"
      },
      "outputs": [
        {
          "output_type": "stream",
          "name": "stdout",
          "text": [
            "No\n"
          ]
        }
      ],
      "source": [
        "prompt = f\"\"\"\n",
        "Is the writer of the following review expressing anger?\\\n",
        "The review is delimited with triple backticks. \\\n",
        "Give your answer as either yes or no.\n",
        "\n",
        "Review text: '''{lamp_review}'''\n",
        "\"\"\"\n",
        "response = get_completion(prompt)\n",
        "print(response)"
      ]
    },
    {
      "cell_type": "markdown",
      "id": "936a771e-ca78-4e55-8088-2da6f3820ddc",
      "metadata": {
        "id": "936a771e-ca78-4e55-8088-2da6f3820ddc"
      },
      "source": [
        "## Extract product and company name from customer reviews"
      ]
    },
    {
      "cell_type": "code",
      "execution_count": 38,
      "id": "a13bea1b",
      "metadata": {
        "colab": {
          "base_uri": "https://localhost:8080/"
        },
        "id": "a13bea1b",
        "outputId": "d4963a0f-c540-40bd-95f4-dd062468b217"
      },
      "outputs": [
        {
          "output_type": "stream",
          "name": "stdout",
          "text": [
            "{\n",
            "  \"Item\": \"lamp\",\n",
            "  \"Brand\": \"Lumina\"\n",
            "}\n"
          ]
        }
      ],
      "source": [
        "prompt = f\"\"\"\n",
        "Identify the following items from the review text:\n",
        "- Item purchased by reviewer\n",
        "- Company that made the item\n",
        "\n",
        "The review is delimited with triple backticks. \\\n",
        "Format your response as a JSON object with \\\n",
        "\"Item\" and \"Brand\" as the keys.\n",
        "If the information isn't present, use \"unknown\" \\\n",
        "as the value.\n",
        "Make your response as short as possible.\n",
        "\n",
        "Review text: '''{lamp_review}'''\n",
        "\"\"\"\n",
        "response = get_completion(prompt)\n",
        "print(response)"
      ]
    },
    {
      "cell_type": "markdown",
      "id": "a38880a5-088f-4609-9913-f8fa41fb7ba0",
      "metadata": {
        "id": "a38880a5-088f-4609-9913-f8fa41fb7ba0"
      },
      "source": [
        "## Doing multiple tasks at once"
      ]
    },
    {
      "cell_type": "code",
      "execution_count": 39,
      "id": "e7dda9e5",
      "metadata": {
        "colab": {
          "base_uri": "https://localhost:8080/"
        },
        "id": "e7dda9e5",
        "outputId": "9b5d449f-716b-4bd6-d70a-f304b0aa3b33"
      },
      "outputs": [
        {
          "output_type": "stream",
          "name": "stdout",
          "text": [
            "{\n",
            "    \"Sentiment\": \"positive\",\n",
            "    \"Anger\": false,\n",
            "    \"Item\": \"lamp\",\n",
            "    \"Brand\": \"Lumina\"\n",
            "}\n"
          ]
        }
      ],
      "source": [
        "prompt = f\"\"\"\n",
        "Identify the following items from the review text:\n",
        "- Sentiment (positive or negative)\n",
        "- Is the reviewer expressing anger? (true or false)\n",
        "- Item purchased by reviewer\n",
        "- Company that made the item\n",
        "\n",
        "The review is delimited with triple backticks. \\\n",
        "Format your response as a JSON object with \\\n",
        "\"Sentiment\", \"Anger\", \"Item\" and \"Brand\" as the keys.\n",
        "If the information isn't present, use \"unknown\" \\\n",
        "as the value.\n",
        "Make your response as short as possible.\n",
        "Format the Anger value as a boolean.\n",
        "\n",
        "Review text: '''{lamp_review}'''\n",
        "\"\"\"\n",
        "response = get_completion(prompt)\n",
        "print(response)"
      ]
    },
    {
      "cell_type": "markdown",
      "id": "235fc223-2c89-49ec-ac2d-78a8e74a43ac",
      "metadata": {
        "id": "235fc223-2c89-49ec-ac2d-78a8e74a43ac"
      },
      "source": [
        "## Inferring topics"
      ]
    },
    {
      "cell_type": "code",
      "execution_count": 40,
      "id": "8a74cc3e",
      "metadata": {
        "id": "8a74cc3e"
      },
      "outputs": [],
      "source": [
        "story = \"\"\"\n",
        "In a recent survey conducted by the government,\n",
        "public sector employees were asked to rate their level\n",
        "of satisfaction with the department they work at.\n",
        "The results revealed that NASA was the most popular\n",
        "department with a satisfaction rating of 95%.\n",
        "\n",
        "One NASA employee, John Smith, commented on the findings,\n",
        "stating, \"I'm not surprised that NASA came out on top.\n",
        "It's a great place to work with amazing people and\n",
        "incredible opportunities. I'm proud to be a part of\n",
        "such an innovative organization.\"\n",
        "\n",
        "The results were also welcomed by NASA's management team,\n",
        "with Director Tom Johnson stating, \"We are thrilled to\n",
        "hear that our employees are satisfied with their work at NASA.\n",
        "We have a talented and dedicated team who work tirelessly\n",
        "to achieve our goals, and it's fantastic to see that their\n",
        "hard work is paying off.\"\n",
        "\n",
        "The survey also revealed that the\n",
        "Social Security Administration had the lowest satisfaction\n",
        "rating, with only 45% of employees indicating they were\n",
        "satisfied with their job. The government has pledged to\n",
        "address the concerns raised by employees in the survey and\n",
        "work towards improving job satisfaction across all departments.\n",
        "\"\"\""
      ]
    },
    {
      "cell_type": "markdown",
      "id": "a8ea91d6-e841-4ee2-bed9-ca4a36df177f",
      "metadata": {
        "id": "a8ea91d6-e841-4ee2-bed9-ca4a36df177f"
      },
      "source": [
        "## Infer 5 topics"
      ]
    },
    {
      "cell_type": "code",
      "execution_count": 41,
      "id": "5c267cbe",
      "metadata": {
        "colab": {
          "base_uri": "https://localhost:8080/"
        },
        "id": "5c267cbe",
        "outputId": "60237421-fa45-487c-9e4a-03fbc001dccf"
      },
      "outputs": [
        {
          "output_type": "stream",
          "name": "stdout",
          "text": [
            "1. Survey\n",
            "2. Job satisfaction\n",
            "3. NASA\n",
            "4. Social Security Administration\n",
            "5. Government pledge\n"
          ]
        }
      ],
      "source": [
        "prompt = f\"\"\"\n",
        "Determine five topics that are being discussed in the \\\n",
        "following text, which is delimited by triple backticks.\n",
        "\n",
        "Make each item one or two words long.\n",
        "\n",
        "Format your response as a list of items separated by commas.\n",
        "\n",
        "Text sample: '''{story}'''\n",
        "\"\"\"\n",
        "response = get_completion(prompt)\n",
        "print(response)"
      ]
    },
    {
      "cell_type": "code",
      "execution_count": 42,
      "id": "f92f90fe",
      "metadata": {
        "colab": {
          "base_uri": "https://localhost:8080/"
        },
        "id": "f92f90fe",
        "outputId": "27c1d254-0954-417c-d55c-de9f8e4fa6be"
      },
      "outputs": [
        {
          "output_type": "execute_result",
          "data": {
            "text/plain": [
              "['1. Survey\\n2. Job satisfaction\\n3. NASA\\n4. Social Security Administration\\n5. Government pledge']"
            ]
          },
          "metadata": {},
          "execution_count": 42
        }
      ],
      "source": [
        "response.split(sep=',')"
      ]
    },
    {
      "cell_type": "code",
      "execution_count": 43,
      "id": "94b8fa65",
      "metadata": {
        "id": "94b8fa65"
      },
      "outputs": [],
      "source": [
        "topic_list = [\n",
        "    \"nasa\", \"local government\", \"engineering\",\n",
        "    \"employee satisfaction\", \"federal government\"\n",
        "]"
      ]
    },
    {
      "cell_type": "markdown",
      "id": "34be1d2a-1309-4512-841a-b6f67338938b",
      "metadata": {
        "id": "34be1d2a-1309-4512-841a-b6f67338938b"
      },
      "source": [
        "## Make a news alert for certain topics"
      ]
    },
    {
      "cell_type": "code",
      "execution_count": 44,
      "id": "626c5b8e",
      "metadata": {
        "colab": {
          "base_uri": "https://localhost:8080/"
        },
        "id": "626c5b8e",
        "outputId": "61adf679-c410-4864-e080-70672740f485"
      },
      "outputs": [
        {
          "output_type": "stream",
          "name": "stdout",
          "text": [
            "[1, 0, 0, 1, 1]\n"
          ]
        }
      ],
      "source": [
        "prompt = f\"\"\"\n",
        "Determine whether each item in the following list of \\\n",
        "topics is a topic in the text below, which\n",
        "is delimited with triple backticks.\n",
        "\n",
        "Give your answer as list with 0 or 1 for each topic.\\\n",
        "\n",
        "List of topics: {\", \".join(topic_list)}\n",
        "\n",
        "Text sample: '''{story}'''\n",
        "\"\"\"\n",
        "response = get_completion(prompt)\n",
        "print(response)"
      ]
    },
    {
      "cell_type": "code",
      "source": [
        "import json\n",
        "\n",
        "topic_dict = json.loads(response)"
      ],
      "metadata": {
        "id": "qkSxTZ8txw9N"
      },
      "id": "qkSxTZ8txw9N",
      "execution_count": 47,
      "outputs": []
    },
    {
      "cell_type": "code",
      "source": [
        "import json\n",
        "\n",
        "# Check if the response variable is empty\n",
        "if not response:\n",
        "    raise ValueError(\"The response variable is empty.\")\n",
        "\n",
        "# Parse the response variable as a JSON string\n",
        "topic_dict = json.loads(response)\n",
        "\n",
        "# Check if the 'nasa' topic is present in the dictionary\n",
        "if topic_dict[0] == 1:\n",
        "    print(\"ALERT: New NASA story!\")"
      ],
      "metadata": {
        "colab": {
          "base_uri": "https://localhost:8080/"
        },
        "id": "xMCeyA62xycS",
        "outputId": "fa1a6c6a-9221-4d21-ef8d-8ba3a968d1a8"
      },
      "id": "xMCeyA62xycS",
      "execution_count": 49,
      "outputs": [
        {
          "output_type": "stream",
          "name": "stdout",
          "text": [
            "ALERT: New NASA story!\n"
          ]
        }
      ]
    }
  ],
  "metadata": {
    "kernelspec": {
      "display_name": "Python 3 (ipykernel)",
      "language": "python",
      "name": "python3"
    },
    "language_info": {
      "codemirror_mode": {
        "name": "ipython",
        "version": 3
      },
      "file_extension": ".py",
      "mimetype": "text/x-python",
      "name": "python",
      "nbconvert_exporter": "python",
      "pygments_lexer": "ipython3",
      "version": "3.10.9"
    },
    "colab": {
      "provenance": []
    }
  },
  "nbformat": 4,
  "nbformat_minor": 5
}